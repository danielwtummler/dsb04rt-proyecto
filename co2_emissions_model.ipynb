{
 "cells": [
  {
   "cell_type": "code",
   "execution_count": 1,
   "id": "fae95f23",
   "metadata": {},
   "outputs": [],
   "source": [
    "import pandas as pd\n",
    "import os\n",
    "import pickle\n",
    "\n",
    "\n",
    "from sklearn.preprocessing import MinMaxScaler\n",
    "from sklearn.model_selection import train_test_split\n",
    "from sklearn.linear_model import LinearRegression\n",
    "from sklearn.ensemble import RandomForestRegressor\n",
    "\n",
    "from sklearn.metrics import r2_score, mean_squared_error"
   ]
  },
  {
   "cell_type": "code",
   "execution_count": 2,
   "id": "230814b5",
   "metadata": {},
   "outputs": [],
   "source": [
    "def read_data():\n",
    "\n",
    "    df = pd.read_csv(\"sources/emisiones.csv\")\n",
    "\n",
    "    return df"
   ]
  },
  {
   "cell_type": "code",
   "execution_count": 3,
   "id": "aabaf906",
   "metadata": {},
   "outputs": [],
   "source": [
    "df = read_data()"
   ]
  },
  {
   "cell_type": "code",
   "execution_count": 4,
   "id": "b2c04300",
   "metadata": {},
   "outputs": [
    {
     "data": {
      "text/html": [
       "<div>\n",
       "<style scoped>\n",
       "    .dataframe tbody tr th:only-of-type {\n",
       "        vertical-align: middle;\n",
       "    }\n",
       "\n",
       "    .dataframe tbody tr th {\n",
       "        vertical-align: top;\n",
       "    }\n",
       "\n",
       "    .dataframe thead th {\n",
       "        text-align: right;\n",
       "    }\n",
       "</style>\n",
       "<table border=\"1\" class=\"dataframe\">\n",
       "  <thead>\n",
       "    <tr style=\"text-align: right;\">\n",
       "      <th></th>\n",
       "      <th>Model Year</th>\n",
       "      <th>Engine Size</th>\n",
       "      <th>Cylinders</th>\n",
       "      <th>Fuel Type</th>\n",
       "      <th>Fuel Consumption City</th>\n",
       "      <th>CO2 Emissions</th>\n",
       "    </tr>\n",
       "  </thead>\n",
       "  <tbody>\n",
       "    <tr>\n",
       "      <th>0</th>\n",
       "      <td>1995</td>\n",
       "      <td>1.8</td>\n",
       "      <td>4.0</td>\n",
       "      <td>Reg. Gasoline</td>\n",
       "      <td>11.6</td>\n",
       "      <td>232</td>\n",
       "    </tr>\n",
       "    <tr>\n",
       "      <th>1</th>\n",
       "      <td>1995</td>\n",
       "      <td>1.8</td>\n",
       "      <td>4.0</td>\n",
       "      <td>Reg. Gasoline</td>\n",
       "      <td>11.0</td>\n",
       "      <td>225</td>\n",
       "    </tr>\n",
       "    <tr>\n",
       "      <th>2</th>\n",
       "      <td>1995</td>\n",
       "      <td>1.8</td>\n",
       "      <td>4.0</td>\n",
       "      <td>Prm. Gasoline</td>\n",
       "      <td>10.8</td>\n",
       "      <td>223</td>\n",
       "    </tr>\n",
       "    <tr>\n",
       "      <th>3</th>\n",
       "      <td>1995</td>\n",
       "      <td>3.2</td>\n",
       "      <td>6.0</td>\n",
       "      <td>Prm. Gasoline</td>\n",
       "      <td>14.2</td>\n",
       "      <td>288</td>\n",
       "    </tr>\n",
       "    <tr>\n",
       "      <th>4</th>\n",
       "      <td>1995</td>\n",
       "      <td>3.2</td>\n",
       "      <td>6.0</td>\n",
       "      <td>Prm. Gasoline</td>\n",
       "      <td>14.6</td>\n",
       "      <td>299</td>\n",
       "    </tr>\n",
       "    <tr>\n",
       "      <th>...</th>\n",
       "      <td>...</td>\n",
       "      <td>...</td>\n",
       "      <td>...</td>\n",
       "      <td>...</td>\n",
       "      <td>...</td>\n",
       "      <td>...</td>\n",
       "    </tr>\n",
       "    <tr>\n",
       "      <th>26209</th>\n",
       "      <td>2022</td>\n",
       "      <td>2.0</td>\n",
       "      <td>4.0</td>\n",
       "      <td>Prm. Gasoline</td>\n",
       "      <td>10.7</td>\n",
       "      <td>219</td>\n",
       "    </tr>\n",
       "    <tr>\n",
       "      <th>26210</th>\n",
       "      <td>2022</td>\n",
       "      <td>2.0</td>\n",
       "      <td>4.0</td>\n",
       "      <td>Prm. Gasoline</td>\n",
       "      <td>10.5</td>\n",
       "      <td>219</td>\n",
       "    </tr>\n",
       "    <tr>\n",
       "      <th>26211</th>\n",
       "      <td>2022</td>\n",
       "      <td>2.0</td>\n",
       "      <td>4.0</td>\n",
       "      <td>Prm. Gasoline</td>\n",
       "      <td>11.0</td>\n",
       "      <td>232</td>\n",
       "    </tr>\n",
       "    <tr>\n",
       "      <th>26212</th>\n",
       "      <td>2022</td>\n",
       "      <td>2.0</td>\n",
       "      <td>4.0</td>\n",
       "      <td>Prm. Gasoline</td>\n",
       "      <td>11.5</td>\n",
       "      <td>236</td>\n",
       "    </tr>\n",
       "    <tr>\n",
       "      <th>26213</th>\n",
       "      <td>2022</td>\n",
       "      <td>2.0</td>\n",
       "      <td>4.0</td>\n",
       "      <td>Prm. Gasoline</td>\n",
       "      <td>12.4</td>\n",
       "      <td>252</td>\n",
       "    </tr>\n",
       "  </tbody>\n",
       "</table>\n",
       "<p>26214 rows × 6 columns</p>\n",
       "</div>"
      ],
      "text/plain": [
       "       Model Year  Engine Size  Cylinders      Fuel Type  \\\n",
       "0            1995          1.8        4.0  Reg. Gasoline   \n",
       "1            1995          1.8        4.0  Reg. Gasoline   \n",
       "2            1995          1.8        4.0  Prm. Gasoline   \n",
       "3            1995          3.2        6.0  Prm. Gasoline   \n",
       "4            1995          3.2        6.0  Prm. Gasoline   \n",
       "...           ...          ...        ...            ...   \n",
       "26209        2022          2.0        4.0  Prm. Gasoline   \n",
       "26210        2022          2.0        4.0  Prm. Gasoline   \n",
       "26211        2022          2.0        4.0  Prm. Gasoline   \n",
       "26212        2022          2.0        4.0  Prm. Gasoline   \n",
       "26213        2022          2.0        4.0  Prm. Gasoline   \n",
       "\n",
       "       Fuel Consumption City  CO2 Emissions  \n",
       "0                       11.6            232  \n",
       "1                       11.0            225  \n",
       "2                       10.8            223  \n",
       "3                       14.2            288  \n",
       "4                       14.6            299  \n",
       "...                      ...            ...  \n",
       "26209                   10.7            219  \n",
       "26210                   10.5            219  \n",
       "26211                   11.0            232  \n",
       "26212                   11.5            236  \n",
       "26213                   12.4            252  \n",
       "\n",
       "[26214 rows x 6 columns]"
      ]
     },
     "execution_count": 4,
     "metadata": {},
     "output_type": "execute_result"
    }
   ],
   "source": [
    "drop_columns = [\"Make\", \"Model\", \"Vehicle Class\", \"Transmission\", \"Fuel Consumption Hwy\",\n",
    "                \"Fuel Consumption Comb\", \"Fuel Consumption Comb (mpg)\"]\n",
    "\n",
    "df.drop(drop_columns, axis = 1, inplace = True)\n",
    "\n",
    "df"
   ]
  },
  {
   "cell_type": "code",
   "execution_count": 5,
   "id": "771ed352",
   "metadata": {},
   "outputs": [
    {
     "data": {
      "text/plain": [
       "array([11.6, 11. , 10.8, 14.2, 14.6, 15. , 15.1, 14.5, 17.4, 15.4, 13.6,\n",
       "       13.9, 14.3, 14.9, 24.7, 24.9, 25.1, 25.3, 12.8, 12.2, 12. , 13.3,\n",
       "       13.4, 13.7, 16. , 16.6, 15.2, 18. , 16.1, 18.9, 11.3, 12.3, 15.6,\n",
       "       12.9, 18.8, 16.8, 17.2, 17. , 17.9, 11.5, 15.9, 17.8, 20.4, 21.9,\n",
       "       20.5, 14.8, 20. , 16.5, 16.3, 18.5, 20.8, 20.7, 15.5, 16.4, 13.5,\n",
       "       19.3, 18.3, 17.7, 18.2, 19.5, 21.4, 20.3, 23.1, 16.7, 15.7, 17.3,\n",
       "       23.3, 22.7, 19.6, 21.6, 16.2, 12.1, 17.1, 11.8, 11.1, 11.9, 13.2,\n",
       "       15.3, 13.1,  9.4,  8.3, 10.3, 10.2, 11.7, 19.7, 22.2,  9.6, 10. ,\n",
       "       19.8, 19.9, 22.1, 21.5, 22.4, 20.1, 21.2, 21.1, 20.6, 24.1, 12.6,\n",
       "       14.7, 13.8, 10.6, 13. , 25.5, 26.1,  9.3,  7.7, 19.1, 18.4, 21.8,\n",
       "       10.5,  9.2, 17.6, 18.7, 14. , 14.4,  6.5,  7.6, 22.9, 10.9, 12.5,\n",
       "        9.8,  7.8,  9.7, 19. , 10.4,  8.9,  9.5,  9.1, 10.1, 11.4, 12.7,\n",
       "        9.9, 11.2,  8.8,  8.2,  8.4, 23.2, 22.3, 18.6, 18.1, 21.3, 20.2,\n",
       "       23.4, 23. , 15.8,  8.1, 16.9, 19.4, 22. , 21. , 23.7, 28.3, 25.7,\n",
       "        8.7,  7. ,  7.4, 26.7, 26.3, 22.8,  7.2,  7.1, 28.5, 21.7,  6.7,\n",
       "       24.6, 30.2,  4.9,  8.6,  8.5,  8. ,  5.5,  6.8, 26.5, 23.5, 25.9,\n",
       "       25.2, 23.6, 27.1, 33.3,  6. , 22.5, 23.9,  7.9,  5. , 29.1, 27.3,\n",
       "       25.4, 27. , 24.2,  6.3,  5.7,  5.8, 24.5, 25. , 28. , 24. , 23.8,\n",
       "        6.9, 30. ,  5.9,  6.1,  7.5,  4.7, 30.3, 26.6, 12.4, 25.8, 30.4,\n",
       "       24.4,  5.4,  6.6,  4.5,  5.3, 14.1, 17.5,  6.2, 19.2,  5.6,  9. ,\n",
       "       10.7,  6.4,  4.6, 30.6,  7.3, 20.9, 24.3,  4.4,  4.8,  4.3,  4.2,\n",
       "        5.1, 26.8, 27.2, 26.2, 28.1,  4. , 27.9])"
      ]
     },
     "execution_count": 5,
     "metadata": {},
     "output_type": "execute_result"
    }
   ],
   "source": [
    "df[\"Fuel Consumption City\"].unique()"
   ]
  },
  {
   "cell_type": "code",
   "execution_count": 6,
   "id": "354affe8",
   "metadata": {},
   "outputs": [
    {
     "name": "stderr",
     "output_type": "stream",
     "text": [
      "C:\\Users\\danie\\anaconda3\\Lib\\site-packages\\sklearn\\base.py:1152: DataConversionWarning: A column-vector y was passed when a 1d array was expected. Please change the shape of y to (n_samples,), for example using ravel().\n",
      "  return fit_method(estimator, *args, **kwargs)\n"
     ]
    },
    {
     "name": "stdout",
     "output_type": "stream",
     "text": [
      "Diesel\n",
      "0.9964558545180406\n",
      "0.00021742139669457417\n",
      "****************************************************************************************************\n"
     ]
    },
    {
     "name": "stderr",
     "output_type": "stream",
     "text": [
      "C:\\Users\\danie\\anaconda3\\Lib\\site-packages\\sklearn\\base.py:1152: DataConversionWarning: A column-vector y was passed when a 1d array was expected. Please change the shape of y to (n_samples,), for example using ravel().\n",
      "  return fit_method(estimator, *args, **kwargs)\n"
     ]
    },
    {
     "name": "stdout",
     "output_type": "stream",
     "text": [
      "Ethanol (E85)\n",
      "0.9948443617150509\n",
      "0.00017097950131547468\n",
      "****************************************************************************************************\n"
     ]
    },
    {
     "name": "stderr",
     "output_type": "stream",
     "text": [
      "C:\\Users\\danie\\anaconda3\\Lib\\site-packages\\sklearn\\base.py:1152: DataConversionWarning: A column-vector y was passed when a 1d array was expected. Please change the shape of y to (n_samples,), for example using ravel().\n",
      "  return fit_method(estimator, *args, **kwargs)\n"
     ]
    },
    {
     "name": "stdout",
     "output_type": "stream",
     "text": [
      "Natural Gas\n",
      "0.9314946509702475\n",
      "0.007198451703511796\n",
      "****************************************************************************************************\n"
     ]
    },
    {
     "name": "stderr",
     "output_type": "stream",
     "text": [
      "C:\\Users\\danie\\anaconda3\\Lib\\site-packages\\sklearn\\base.py:1152: DataConversionWarning: A column-vector y was passed when a 1d array was expected. Please change the shape of y to (n_samples,), for example using ravel().\n",
      "  return fit_method(estimator, *args, **kwargs)\n"
     ]
    },
    {
     "name": "stdout",
     "output_type": "stream",
     "text": [
      "Prm. Gasoline\n",
      "0.993874827946618\n",
      "9.412821392684273e-05\n",
      "****************************************************************************************************\n"
     ]
    },
    {
     "name": "stderr",
     "output_type": "stream",
     "text": [
      "C:\\Users\\danie\\anaconda3\\Lib\\site-packages\\sklearn\\base.py:1152: DataConversionWarning: A column-vector y was passed when a 1d array was expected. Please change the shape of y to (n_samples,), for example using ravel().\n",
      "  return fit_method(estimator, *args, **kwargs)\n"
     ]
    },
    {
     "name": "stdout",
     "output_type": "stream",
     "text": [
      "Reg. Gasoline\n",
      "0.9947000881324849\n",
      "0.00013276760178466558\n",
      "****************************************************************************************************\n"
     ]
    }
   ],
   "source": [
    "resultados = list()\n",
    "\n",
    "for fuel_type in sorted(df[\"Fuel Type\"].unique()):\n",
    "    \n",
    "    df_ = df[df[\"Fuel Type\"] == fuel_type].drop(\"Fuel Type\", axis = 1)\n",
    "    \n",
    "    X = df_.drop(\"CO2 Emissions\", axis = 1)\n",
    "    y = df_[[\"CO2 Emissions\"]]\n",
    "    \n",
    "    X_scaler = MinMaxScaler()\n",
    "    X = X_scaler.fit_transform(X)\n",
    "    \n",
    "    y_scaler = MinMaxScaler()\n",
    "    y = y_scaler.fit_transform(y)\n",
    "    \n",
    "    X_train, X_test, y_train, y_test = train_test_split(X, y, random_state = 42)\n",
    "    \n",
    "    model = RandomForestRegressor()\n",
    "    model.fit(X_train, y_train)\n",
    "    \n",
    "    yhat = model.predict(X_test)\n",
    "    \n",
    "    r2 = r2_score(y_test, yhat)\n",
    "    mse = mean_squared_error(y_test, yhat)\n",
    "    \n",
    "    print(fuel_type)\n",
    "#     print(model.coef_)\n",
    "#     print(model.intercept_)\n",
    "    print(r2)\n",
    "    print(mse)\n",
    "    print(\"*\"*100)\n",
    "    \n",
    "    #######\n",
    "    \n",
    "    resultados.append([fuel_type, r2, mse])\n",
    "    \n",
    "    #######\n",
    "    # X_scaler\n",
    "    with open(file = f\"x_scaler_{fuel_type.replace(' ', '_')}.pkl\", mode = \"wb\") as file:\n",
    "        pickle.dump(X_scaler, file)\n",
    "    \n",
    "    # y_scaler\n",
    "    with open(file = f\"y_scaler_{fuel_type.replace(' ', '_')}.pkl\", mode = \"wb\") as file:\n",
    "        pickle.dump(y_scaler, file)\n",
    "    \n",
    "    # Model\n",
    "    with open(file = f\"model_{fuel_type.replace(' ', '_')}.pkl\", mode = \"wb\") as file:\n",
    "        pickle.dump(model, file)"
   ]
  },
  {
   "cell_type": "code",
   "execution_count": 7,
   "id": "9e2fcced",
   "metadata": {},
   "outputs": [
    {
     "data": {
      "text/html": [
       "<div>\n",
       "<style scoped>\n",
       "    .dataframe tbody tr th:only-of-type {\n",
       "        vertical-align: middle;\n",
       "    }\n",
       "\n",
       "    .dataframe tbody tr th {\n",
       "        vertical-align: top;\n",
       "    }\n",
       "\n",
       "    .dataframe thead th {\n",
       "        text-align: right;\n",
       "    }\n",
       "</style>\n",
       "<table border=\"1\" class=\"dataframe\">\n",
       "  <thead>\n",
       "    <tr style=\"text-align: right;\">\n",
       "      <th></th>\n",
       "      <th>Fuel Type</th>\n",
       "      <th>r2</th>\n",
       "      <th>MSE</th>\n",
       "    </tr>\n",
       "  </thead>\n",
       "  <tbody>\n",
       "    <tr>\n",
       "      <th>0</th>\n",
       "      <td>Diesel</td>\n",
       "      <td>0.996456</td>\n",
       "      <td>0.000217</td>\n",
       "    </tr>\n",
       "    <tr>\n",
       "      <th>1</th>\n",
       "      <td>Ethanol (E85)</td>\n",
       "      <td>0.994844</td>\n",
       "      <td>0.000171</td>\n",
       "    </tr>\n",
       "    <tr>\n",
       "      <th>2</th>\n",
       "      <td>Natural Gas</td>\n",
       "      <td>0.931495</td>\n",
       "      <td>0.007198</td>\n",
       "    </tr>\n",
       "    <tr>\n",
       "      <th>3</th>\n",
       "      <td>Prm. Gasoline</td>\n",
       "      <td>0.993875</td>\n",
       "      <td>0.000094</td>\n",
       "    </tr>\n",
       "    <tr>\n",
       "      <th>4</th>\n",
       "      <td>Reg. Gasoline</td>\n",
       "      <td>0.994700</td>\n",
       "      <td>0.000133</td>\n",
       "    </tr>\n",
       "  </tbody>\n",
       "</table>\n",
       "</div>"
      ],
      "text/plain": [
       "       Fuel Type        r2       MSE\n",
       "0         Diesel  0.996456  0.000217\n",
       "1  Ethanol (E85)  0.994844  0.000171\n",
       "2    Natural Gas  0.931495  0.007198\n",
       "3  Prm. Gasoline  0.993875  0.000094\n",
       "4  Reg. Gasoline  0.994700  0.000133"
      ]
     },
     "execution_count": 7,
     "metadata": {},
     "output_type": "execute_result"
    }
   ],
   "source": [
    "df_metricas = pd.DataFrame(data = resultados, columns = [\"Fuel Type\", \"r2\", \"MSE\"])\n",
    "df_metricas"
   ]
  },
  {
   "cell_type": "code",
   "execution_count": 8,
   "id": "274eb887",
   "metadata": {},
   "outputs": [
    {
     "name": "stdout",
     "output_type": "stream",
     "text": [
      "<class 'pandas.core.frame.DataFrame'>\n",
      "RangeIndex: 5 entries, 0 to 4\n",
      "Data columns (total 3 columns):\n",
      " #   Column     Non-Null Count  Dtype  \n",
      "---  ------     --------------  -----  \n",
      " 0   Fuel Type  5 non-null      object \n",
      " 1   r2         5 non-null      float64\n",
      " 2   MSE        5 non-null      float64\n",
      "dtypes: float64(2), object(1)\n",
      "memory usage: 252.0+ bytes\n"
     ]
    }
   ],
   "source": [
    "df_metricas.info()"
   ]
  },
  {
   "cell_type": "code",
   "execution_count": 9,
   "id": "5be5fb25",
   "metadata": {},
   "outputs": [],
   "source": [
    "df_metricas.to_csv(\"metrics.csv\", index = False)"
   ]
  },
  {
   "cell_type": "code",
   "execution_count": 10,
   "id": "08ac2a6f",
   "metadata": {},
   "outputs": [],
   "source": [
    "################################################################################################################################"
   ]
  }
 ],
 "metadata": {
  "kernelspec": {
   "display_name": "Python 3 (ipykernel)",
   "language": "python",
   "name": "python3"
  },
  "language_info": {
   "codemirror_mode": {
    "name": "ipython",
    "version": 3
   },
   "file_extension": ".py",
   "mimetype": "text/x-python",
   "name": "python",
   "nbconvert_exporter": "python",
   "pygments_lexer": "ipython3",
   "version": "3.11.4"
  }
 },
 "nbformat": 4,
 "nbformat_minor": 5
}
